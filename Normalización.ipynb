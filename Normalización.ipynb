{
 "cells": [
  {
   "cell_type": "markdown",
   "metadata": {},
   "source": [
    "# Tranformación\n",
    "Vamos a ver en las 15 hojas del excel las columnas sin nombres y con valores nulos y dropearlas. "
   ]
  },
  {
   "cell_type": "code",
   "execution_count": 5,
   "metadata": {},
   "outputs": [],
   "source": [
    "import pandas as pd\n",
    "\n",
    "# Cargar el archivo de Excel\n",
    "file_path = 'Internet.xlsx'\n",
    "excel_data = pd.ExcelFile(file_path)\n",
    "\n",
    "# Crear un diccionario para almacenar las hojas limpiadas\n",
    "cleaned_sheets = {}\n",
    "for sheet_name in excel_data.sheet_names:\n",
    "    # Cargar cada hoja en un DataFrame\n",
    "    df = excel_data.parse(sheet_name)\n",
    "    # Eliminar columnas que contienen solo valores nulos\n",
    "    df_cleaned = df.dropna(axis=1, how='all')\n",
    "    # Guardar el DataFrame limpio en el diccionario\n",
    "    cleaned_sheets[sheet_name] = df_cleaned\n",
    "\n"
   ]
  },
  {
   "cell_type": "markdown",
   "metadata": {},
   "source": [
    "Seguimos trabajando con el archivo que exportamos (internet_limpio.xlsx) y vemos la necesidad de limpiar datos nulos y errores. \n",
    "1. Revisamos las columnas que contienen errores que aparecen en la hoja \"accesos por tecnología\": \n",
    "    - Columna años se reemplazo los errores por el año 2019, siguiendo la lógica de los datos. \n",
    "    - Columna Trimestre se reemplazo los errores por el trimestre 4, siguiendo la lógica de los datos. \n",
    "2. De la hoja Acc_vel_Loc_sinrango, Columna Velocidad, se reemplazo errores con el valor 6357120, siguiendo la logica de los datos. \n",
    "3. Revisamos la hoja dial_baf, en la columna dial_up y registramos algunos datos nulos correspondientes a dos provincias: formosa y misiones. Por logica de los datos y por ser un volumen insignificante decidí revalorar en 0 los datos vacios/null.\n",
    "4. Procedo a verificar los tipos de datos en las hojas y columnas reporando () modificaciones."
   ]
  },
  {
   "cell_type": "code",
   "execution_count": 6,
   "metadata": {},
   "outputs": [
    {
     "name": "stderr",
     "output_type": "stream",
     "text": [
      "C:\\Users\\jerom\\AppData\\Local\\Temp\\ipykernel_10960\\366169002.py:7: FutureWarning: DataFrame.applymap has been deprecated. Use DataFrame.map instead.\n",
      "  sheets_dict[\"Accesos Por Tecnología\"] = sheets_dict[\"Accesos Por Tecnología\"].applymap(\n"
     ]
    }
   ],
   "source": [
    "# Crear un diccionario para almacenar los datos de todas las hojas, conservando las que no requieren modificaciones\n",
    "sheets_dict = {sheet: excel_data.parse(sheet) for sheet in excel_data.sheet_names}\n",
    "\n",
    "# Realizar modificaciones solo en las hojas específicas\n",
    "\n",
    "# Hoja \"Accesos Por Tecnología\": reemplazar errores con 2019 y en \"trimestre\" con 4\n",
    "sheets_dict[\"Accesos Por Tecnología\"] = sheets_dict[\"Accesos Por Tecnología\"].applymap(\n",
    "    lambda x: 2019 if isinstance(x, str) and x.lower() == 'error' else x)\n",
    "if 'trimestre' in sheets_dict[\"Accesos Por Tecnología\"].columns:\n",
    "    sheets_dict[\"Accesos Por Tecnología\"]['trimestre'] = sheets_dict[\"Accesos Por Tecnología\"]['trimestre'].apply(\n",
    "        lambda x: 4 if isinstance(x, str) and x.lower() == 'error' else x)\n",
    "\n",
    "# Hoja \"Acc_vel_loc_sinrangos\": en columna \"velocidad\" reemplazar errores con 6357120\n",
    "if 'velocidad' in sheets_dict[\"Acc_vel_loc_sinrangos\"].columns:\n",
    "    sheets_dict[\"Acc_vel_loc_sinrangos\"]['velocidad'] = sheets_dict[\"Acc_vel_loc_sinrangos\"]['velocidad'].apply(\n",
    "        lambda x: 6357120 if isinstance(x, str) and x.lower() == 'error' else x)\n",
    "\n",
    "# Hoja \"Dial-BAf\": en columna \"dial_up\" reemplazar valores nulos o vacíos por 0\n",
    "if 'dial_up' in sheets_dict[\"Dial-BAf\"].columns:\n",
    "    sheets_dict[\"Dial-BAf\"]['dial_up'] = sheets_dict[\"Dial-BAf\"]['dial_up'].fillna(0)\n",
    "\n",
    "\n"
   ]
  },
  {
   "cell_type": "code",
   "execution_count": 7,
   "metadata": {},
   "outputs": [
    {
     "name": "stderr",
     "output_type": "stream",
     "text": [
      "C:\\Users\\jerom\\AppData\\Local\\Temp\\ipykernel_10960\\3900608763.py:7: FutureWarning: errors='ignore' is deprecated and will raise in a future version. Use to_numeric without passing `errors` and catch exceptions explicitly instead\n",
      "  sheets_dict['Accesos Por Tecnología'] = sheets_dict['Accesos Por Tecnología'].apply(pd.to_numeric, errors='ignore')\n",
      "C:\\Users\\jerom\\AppData\\Local\\Temp\\ipykernel_10960\\3900608763.py:11: FutureWarning: errors='ignore' is deprecated and will raise in a future version. Use to_numeric without passing `errors` and catch exceptions explicitly instead\n",
      "  sheets_dict['Acc_vel_loc_sinrangos'] = sheets_dict['Acc_vel_loc_sinrangos'].apply(pd.to_numeric, errors='ignore')\n"
     ]
    }
   ],
   "source": [
    "\n",
    "\n",
    "# Cargar todas las hojas en un diccionario\n",
    "sheets_dict = pd.read_excel(file_path, sheet_name=None)\n",
    "\n",
    "# Modificar las hojas específicas\n",
    "# Eliminar asteriscos y convertir a entero en 'Accesos Por Tecnología'\n",
    "sheets_dict['Accesos Por Tecnología'] = sheets_dict['Accesos Por Tecnología'].replace(r'\\*', '', regex=True)\n",
    "sheets_dict['Accesos Por Tecnología'] = sheets_dict['Accesos Por Tecnología'].apply(pd.to_numeric, errors='ignore')\n",
    "\n",
    "# Eliminar asteriscos y convertir a entero en 'Acc_vel_loc_sinrangos'\n",
    "sheets_dict['Acc_vel_loc_sinrangos'] = sheets_dict['Acc_vel_loc_sinrangos'].replace(r'\\*', '', regex=True)\n",
    "sheets_dict['Acc_vel_loc_sinrangos'] = sheets_dict['Acc_vel_loc_sinrangos'].apply(pd.to_numeric, errors='ignore')\n",
    "\n",
    "# Reemplazar valores nulos por 0 en 'Dial-BAf'\n",
    "sheets_dict['Dial-BAf'] = sheets_dict['Dial-BAf'].fillna(0)\n",
    "\n",
    "\n"
   ]
  },
  {
   "cell_type": "code",
   "execution_count": null,
   "metadata": {},
   "outputs": [
    {
     "name": "stdout",
     "output_type": "stream",
     "text": [
      "Archivo guardado en: Internet_Completo_Filtered.xlsx\n"
     ]
    }
   ],
   "source": [
    "# PAra una optmización de los recursos y para no ser tan abarcativo decidí eliminar las siguientes tabas: \n",
    "# - Dial-BAf y Totales Dial-BAf: Estas hojas contienen datos más específicos sobre conexiones dial-up o tecnologías menos utilizadas, \n",
    "# que no son tan representativas en un análisis de conectividad actual.\n",
    "#  Como mi analisis será sobre la conectividad en la República Argentina, por eso me atendré a las hojas que dicen \"sin rango\". \n",
    "\n",
    "# Definir las hojas a eliminar\n",
    "sheets_to_drop = ['Dial-BAf', 'Totales Dial-BAf', 'Totales Accesos por rango']\n",
    "\n",
    "# Cargar solo las hojas que no están en la lista sheets_to_drop\n",
    "filtered_data = {sheet: excel_data.parse(sheet) for sheet in excel_data.sheet_names if sheet not in sheets_to_drop}\n",
    "\n",
    "# Guardar el archivo Excel modificado sin las hojas especificadas\n",
    "output_path = 'Internet_Completo_Filtered.xlsx'\n",
    "with pd.ExcelWriter(output_path) as writer:\n",
    "    for sheet_name, df in filtered_data.items():\n",
    "        df.to_excel(writer, sheet_name=sheet_name, index=False)\n",
    "\n",
    "print(\"Archivo guardado en:\", output_path)"
   ]
  }
 ],
 "metadata": {
  "kernelspec": {
   "display_name": "Python 3",
   "language": "python",
   "name": "python3"
  },
  "language_info": {
   "codemirror_mode": {
    "name": "ipython",
    "version": 3
   },
   "file_extension": ".py",
   "mimetype": "text/x-python",
   "name": "python",
   "nbconvert_exporter": "python",
   "pygments_lexer": "ipython3",
   "version": "3.12.1"
  }
 },
 "nbformat": 4,
 "nbformat_minor": 2
}
